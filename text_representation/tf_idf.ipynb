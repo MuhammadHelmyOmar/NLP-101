{
 "cells": [
  {
   "attachments": {},
   "cell_type": "markdown",
   "metadata": {},
   "source": [
    "### TF-IDF"
   ]
  },
  {
   "cell_type": "code",
   "execution_count": 5,
   "metadata": {},
   "outputs": [],
   "source": [
    "from sklearn.feature_extraction.text import TfidfVectorizer\n",
    "from qalsadi.lemmatizer import Lemmatizer"
   ]
  },
  {
   "cell_type": "code",
   "execution_count": 6,
   "metadata": {},
   "outputs": [],
   "source": [
    "ar_docs = [\"وقبر حربٍ بمكان قفرٍ\", \"وليس قرب قبر حربٍ قبرٌ\"]"
   ]
  },
  {
   "cell_type": "code",
   "execution_count": 7,
   "metadata": {},
   "outputs": [],
   "source": [
    "def arabic_lemmatize(word):\n",
    "    lemmatizer = Lemmatizer()\n",
    "    return lemmatizer.lemmatize(word)"
   ]
  },
  {
   "cell_type": "code",
   "execution_count": 8,
   "metadata": {},
   "outputs": [],
   "source": [
    "# Lemmatizing arabic corpus\n",
    "lemmatized_ar_corpus = []\n",
    "for doc in ar_docs:\n",
    "    sentence = ''\n",
    "    words = doc.split(' ')\n",
    "    for w in words:\n",
    "        w = arabic_lemmatize(w)\n",
    "        sentence += ' ' + w\n",
    "    lemmatized_ar_corpus.append(sentence)"
   ]
  },
  {
   "cell_type": "code",
   "execution_count": 9,
   "metadata": {},
   "outputs": [
    {
     "name": "stdout",
     "output_type": "stream",
     "text": [
      "[' قبر حرب مكان قفر', ' ليس قرب قبر حرب قبر']\n",
      "{'قبر': 1, 'حرب': 0, 'مكان': 5, 'قفر': 3, 'ليس': 4, 'قرب': 2}\n",
      "TF-IDF Vector Repr.:-\n",
      " [[0.40993715 0.40993715 0.         0.57615236 0.         0.57615236]\n",
      " [0.33425073 0.66850146 0.46977774 0.         0.46977774 0.        ]]\n",
      "TF-IDF Vector Repr. for new corpus:-\n",
      " [[0.57854077 0.57854077 0.         0.40655943 0.         0.40655943]]\n"
     ]
    }
   ],
   "source": [
    "tfidf = TfidfVectorizer()\n",
    "tfidf_bow = tfidf.fit_transform(lemmatized_ar_corpus)\n",
    "print(lemmatized_ar_corpus)\n",
    "print(tfidf.vocabulary_)\n",
    "# print(tfidf_bow)\n",
    "print(\"TF-IDF Vector Repr.:-\\n\",tfidf_bow.toarray())\n",
    "# print(tfidf.get_feature_names())\n",
    "tmp = tfidf.transform([\"ابقى تعالى تف على قبر حرب مكان قفر لو فلحت.. قبر حرب\"])\n",
    "print(\"TF-IDF Vector Repr. for new corpus:-\\n\",tmp.toarray())"
   ]
  }
 ],
 "metadata": {
  "kernelspec": {
   "display_name": "Python 3",
   "language": "python",
   "name": "python3"
  },
  "language_info": {
   "codemirror_mode": {
    "name": "ipython",
    "version": 3
   },
   "file_extension": ".py",
   "mimetype": "text/x-python",
   "name": "python",
   "nbconvert_exporter": "python",
   "pygments_lexer": "ipython3",
   "version": "3.10.4"
  },
  "orig_nbformat": 4
 },
 "nbformat": 4,
 "nbformat_minor": 2
}
