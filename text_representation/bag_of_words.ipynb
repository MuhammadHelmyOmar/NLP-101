{
 "cells": [
  {
   "attachments": {},
   "cell_type": "markdown",
   "metadata": {},
   "source": [
    "### Bag of Words"
   ]
  },
  {
   "cell_type": "code",
   "execution_count": 1,
   "metadata": {},
   "outputs": [],
   "source": [
    "from sklearn.feature_extraction.text import CountVectorizer\n",
    "from qalsadi.lemmatizer import Lemmatizer"
   ]
  },
  {
   "cell_type": "code",
   "execution_count": 2,
   "metadata": {},
   "outputs": [],
   "source": [
    "def arabic_lemmatize(word):\n",
    "    lemmatizer = Lemmatizer()\n",
    "    return lemmatizer.lemmatize(word)"
   ]
  },
  {
   "cell_type": "code",
   "execution_count": 3,
   "metadata": {},
   "outputs": [],
   "source": [
    "ar_docs = [\"وقبر حربٍ بمكان قفرٍ\", \"وليس قرب قبر حربٍ قبرٌ\"]"
   ]
  },
  {
   "cell_type": "code",
   "execution_count": 4,
   "metadata": {},
   "outputs": [],
   "source": [
    "# Lemmatizing arabic corpus\n",
    "lemmatized_ar_corpus = []\n",
    "for doc in ar_docs:\n",
    "    sentence = ''\n",
    "    words = doc.split(' ')\n",
    "    for w in words:\n",
    "        w = arabic_lemmatize(w)\n",
    "        sentence += ' ' + w\n",
    "    lemmatized_ar_corpus.append(sentence)"
   ]
  },
  {
   "cell_type": "code",
   "execution_count": 6,
   "metadata": {},
   "outputs": [
    {
     "name": "stdout",
     "output_type": "stream",
     "text": [
      "{'قبر': 1, 'حرب': 0, 'مكان': 5, 'قفر': 3, 'ليس': 4, 'قرب': 2}\n",
      "  (0, 1)\t1\n",
      "  (0, 0)\t1\n",
      "  (0, 5)\t1\n",
      "  (0, 3)\t1\n",
      "  (1, 1)\t2\n",
      "  (1, 0)\t1\n",
      "  (1, 4)\t1\n",
      "  (1, 2)\t1\n",
      "BOW rep. of 1st doc:  [[1 1 0 1 0 1]]\n",
      "BOW rep. of 2nd doc:  [[1 2 1 0 1 0]]\n",
      "[[1 2 0 0 0 0]]\n"
     ]
    }
   ],
   "source": [
    "count_vect = CountVectorizer()#binary=True)\n",
    "\n",
    "# Mapping English Doc\n",
    "# eng_bow = count_vect.fit_transform(d)\n",
    "# print(eng_bow)\n",
    "'''\n",
    "    First index (The tuple) of BOW: (Doc ID, Word ID).\n",
    "    Second index of BOW: occurances of the word in the doc.\n",
    "'''\n",
    "# print(count_vect.vocabulary_)\n",
    "\n",
    "\n",
    "# Mapping Arabic Doc\n",
    "ar_bow = count_vect.fit_transform(lemmatized_ar_corpus)\n",
    "print(count_vect.vocabulary_)\n",
    "print(ar_bow)\n",
    "print(\"BOW rep. of 1st doc: \",ar_bow[0].toarray())\n",
    "print(\"BOW rep. of 2nd doc: \",ar_bow[1].toarray())\n",
    "tmp = count_vect.transform([\"ابقى تعالى تف على قبر حرب لو فلحت.. قبر\"])\n",
    "tmp = count_vect.transform([\"ابقى تعالى تف على قبر حرب لو فلحت.. قبر\"])\n",
    "print(tmp.toarray())"
   ]
  },
  {
   "attachments": {},
   "cell_type": "markdown",
   "metadata": {},
   "source": [
    "### Bag of N-Grams"
   ]
  },
  {
   "cell_type": "code",
   "execution_count": 7,
   "metadata": {},
   "outputs": [
    {
     "name": "stdout",
     "output_type": "stream",
     "text": [
      "{'قبر': 4, 'حرب': 0, 'مكان': 15, 'قفر': 11, 'قبر حرب': 5, 'حرب مكان': 2, 'مكان قفر': 16, 'قبر حرب مكان': 7, 'حرب مكان قفر': 3, 'ليس': 12, 'قرب': 8, 'ليس قرب': 13, 'قرب قبر': 9, 'حرب قبر': 1, 'ليس قرب قبر': 14, 'قرب قبر حرب': 10, 'قبر حرب قبر': 6}\n",
      "BON repr. for arabic docs:- \n",
      " [[1 0 1 1 1 1 0 1 0 0 0 1 0 0 0 1 1]\n",
      " [1 1 0 0 2 1 1 0 1 1 1 0 1 1 1 0 0]]\n",
      "BON repr. for new doc:-\n",
      " [[2 0 1 1 2 2 0 1 0 0 0 1 0 0 0 1 1]]\n"
     ]
    }
   ],
   "source": [
    "ngram_vect = CountVectorizer(ngram_range=(1,3))\n",
    "bon = ngram_vect.fit_transform(lemmatized_ar_corpus)\n",
    "print(ngram_vect.vocabulary_)\n",
    "print(\"BON repr. for arabic docs:- \\n\",bon.toarray())\n",
    "tmp = ngram_vect.transform([\"ابقى تعالى تف على قبر حرب مكان قفر لو فلحت.. قبر حرب\"])\n",
    "print(\"BON repr. for new doc:-\\n\",tmp.toarray())"
   ]
  }
 ],
 "metadata": {
  "kernelspec": {
   "display_name": "Python 3",
   "language": "python",
   "name": "python3"
  },
  "language_info": {
   "codemirror_mode": {
    "name": "ipython",
    "version": 3
   },
   "file_extension": ".py",
   "mimetype": "text/x-python",
   "name": "python",
   "nbconvert_exporter": "python",
   "pygments_lexer": "ipython3",
   "version": "3.10.4"
  },
  "orig_nbformat": 4
 },
 "nbformat": 4,
 "nbformat_minor": 2
}
