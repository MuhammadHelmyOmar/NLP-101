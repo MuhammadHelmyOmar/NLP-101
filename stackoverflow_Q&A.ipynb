{
  "nbformat": 4,
  "nbformat_minor": 0,
  "metadata": {
    "colab": {
      "provenance": []
    },
    "kernelspec": {
      "name": "python3",
      "display_name": "Python 3"
    },
    "language_info": {
      "name": "python"
    }
  },
  "cells": [
    {
      "cell_type": "code",
      "source": [
        "from bs4 import BeautifulSoup\n",
        "from urllib.request import urlopen\n",
        "\n",
        "myurl = \"https://stackoverflow.com/questions/415511/how-to-get-the-current-time-in-python\"\n",
        "html = urlopen(myurl).read()\n",
        "# print(html,type(html))\n",
        "soupified = BeautifulSoup(html, 'html.parser')\n",
        "# print(soupified,type(soupified))\n",
        "question = soupified.find(\"div\",{\"class\":\"question\"})\n",
        "# print(question,type(question))\n",
        "question_text = question.find('div',{'class':\"s-prose js-post-body\"})\n",
        "print(\"Question:\\n\",question_text.get_text().strip())\n",
        "answer = soupified.find(\"div\",{'class':'answer'})\n",
        "# print(answer,type(answer))\n",
        "answer_text = answer.find('div',{'class':\"s-prose js-post-body\"})\n",
        "print(\"Best Answer:\\n\",answer_text.get_text().strip())"
      ],
      "metadata": {
        "colab": {
          "base_uri": "https://localhost:8080/"
        },
        "id": "B8DdPE5TRdrf",
        "outputId": "29e4475d-e48c-44da-f25a-da47e2fc2224"
      },
      "execution_count": 57,
      "outputs": [
        {
          "output_type": "stream",
          "name": "stdout",
          "text": [
            "Question:\n",
            " How do I get the current time?\n",
            "Best Answer:\n",
            " Use datetime:\n",
            ">>> import datetime\n",
            ">>> now = datetime.datetime.now()\n",
            ">>> now\n",
            "datetime.datetime(2009, 1, 6, 15, 8, 24, 78915)\n",
            ">>> print(now)\n",
            "2009-01-06 15:08:24.789150\n",
            "\n",
            "For just the clock time without the date:\n",
            ">>> now.time()\n",
            "datetime.time(15, 8, 24, 78915)\n",
            ">>> print(now.time())\n",
            "15:08:24.789150\n",
            "\n",
            "\n",
            "To save typing, you can import the datetime object from the datetime module:\n",
            ">>> from datetime import datetime\n",
            "\n",
            "Then remove the prefix datetime. from all of the above.\n"
          ]
        }
      ]
    },
    {
      "cell_type": "code",
      "source": [],
      "metadata": {
        "id": "V9RMID9MU3gm"
      },
      "execution_count": null,
      "outputs": []
    }
  ]
}