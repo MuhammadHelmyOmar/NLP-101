{
 "cells": [
  {
   "cell_type": "code",
   "execution_count": 1,
   "metadata": {},
   "outputs": [],
   "source": [
    "from nltk.tokenize import sent_tokenize,word_tokenize"
   ]
  },
  {
   "cell_type": "code",
   "execution_count": 18,
   "metadata": {},
   "outputs": [
    {
     "name": "stdout",
     "output_type": "stream",
     "text": [
      "1: As a simple rule, we can do sentence segmentation by breaking up text into sentences at the appearance of full stops and question marks.\n",
      "2: However, there may be abbreviations, forms of addresses (Dr., Mr., etc.\n",
      "3: ), or ellipses (...) that may break the simple rule.\n",
      "4: Thankfully, we don’t have to worry about how to solve these issues, as most NLP libraries come with some form of sentence and word splitting implemented.\n",
      "5: A commonly used library is Natural Language Tool Kit (NLTK) [30].\n",
      "6: The code example below shows how to use a sentence and word splitter from NLTK and uses the first paragraph of this chapter as input:\n"
     ]
    }
   ],
   "source": [
    "text = \"As a simple rule, we can do sentence segmentation by breaking up text into sentences at the appearance of full stops and question marks. However, there may be abbreviations, forms of addresses (Dr., Mr., etc.), or ellipses (...) that may break the simple rule. Thankfully, we don’t have to worry about how to solve these issues, as most NLP libraries come with some form of sentence and word splitting implemented. A commonly used library is Natural Language Tool Kit (NLTK) [30]. The code example below shows how to use a sentence and word splitter from NLTK and uses the first paragraph of this chapter as input:\"\n",
    "sentences = sent_tokenize(text)\n",
    "i=1\n",
    "for sentence in sentences:\n",
    "    print(str(i)+\":\",sentence)\n",
    "    i+=1"
   ]
  },
  {
   "cell_type": "code",
   "execution_count": 22,
   "metadata": {},
   "outputs": [
    {
     "name": "stdout",
     "output_type": "stream",
     "text": [
      "<class 'list'>\n",
      "['As', 'a', 'simple', 'rule', ',', 'we', 'can', 'do', 'sentence', 'segmentation', 'by', 'breaking', 'up', 'text', 'into', 'sentences', 'at', 'the', 'appearance', 'of', 'full', 'stops', 'and', 'question', 'marks', '.']\n",
      "['However', ',', 'there', 'may', 'be', 'abbreviations', ',', 'forms', 'of', 'addresses', '(', 'Dr.', ',', 'Mr.', ',', 'etc', '.']\n",
      "[')', ',', 'or', 'ellipses', '(', '...', ')', 'that', 'may', 'break', 'the', 'simple', 'rule', '.']\n",
      "['Thankfully', ',', 'we', 'don', '’', 't', 'have', 'to', 'worry', 'about', 'how', 'to', 'solve', 'these', 'issues', ',', 'as', 'most', 'NLP', 'libraries', 'come', 'with', 'some', 'form', 'of', 'sentence', 'and', 'word', 'splitting', 'implemented', '.']\n",
      "['A', 'commonly', 'used', 'library', 'is', 'Natural', 'Language', 'Tool', 'Kit', '(', 'NLTK', ')', '[', '30', ']', '.']\n",
      "['The', 'code', 'example', 'below', 'shows', 'how', 'to', 'use', 'a', 'sentence', 'and', 'word', 'splitter', 'from', 'NLTK', 'and', 'uses', 'the', 'first', 'paragraph', 'of', 'this', 'chapter', 'as', 'input', ':']\n",
      "\n",
      "all_words: ['As', 'a', 'simple', 'rule', ',', 'we', 'can', 'do', 'sentence', 'segmentation', 'by', 'breaking', 'up', 'text', 'into', 'sentences', 'at', 'the', 'appearance', 'of', 'full', 'stops', 'and', 'question', 'marks', '.', 'However', ',', 'there', 'may', 'be', 'abbreviations', ',', 'forms', 'of', 'addresses', '(', 'Dr.', ',', 'Mr.', ',', 'etc', '.', ')', ',', 'or', 'ellipses', '(', '...', ')', 'that', 'may', 'break', 'the', 'simple', 'rule', '.', 'Thankfully', ',', 'we', 'don', '’', 't', 'have', 'to', 'worry', 'about', 'how', 'to', 'solve', 'these', 'issues', ',', 'as', 'most', 'NLP', 'libraries', 'come', 'with', 'some', 'form', 'of', 'sentence', 'and', 'word', 'splitting', 'implemented', '.', 'A', 'commonly', 'used', 'library', 'is', 'Natural', 'Language', 'Tool', 'Kit', '(', 'NLTK', ')', '[', '30', ']', '.', 'The', 'code', 'example', 'below', 'shows', 'how', 'to', 'use', 'a', 'sentence', 'and', 'word', 'splitter', 'from', 'NLTK', 'and', 'uses', 'the', 'first', 'paragraph', 'of', 'this', 'chapter', 'as', 'input', ':']\n"
     ]
    }
   ],
   "source": [
    "print(type(sentences))\n",
    "for sentence in sentences:\n",
    "    print(word_tokenize(sentence))\n",
    "    \n",
    "print(\"\\nall_words:\",word_tokenize(text))"
   ]
  }
 ],
 "metadata": {
  "kernelspec": {
   "display_name": "base",
   "language": "python",
   "name": "python3"
  },
  "language_info": {
   "codemirror_mode": {
    "name": "ipython",
    "version": 3
   },
   "file_extension": ".py",
   "mimetype": "text/x-python",
   "name": "python",
   "nbconvert_exporter": "python",
   "pygments_lexer": "ipython3",
   "version": "3.9.13"
  },
  "orig_nbformat": 4,
  "vscode": {
   "interpreter": {
    "hash": "53d50ed1839d2292cfd39f0644d59e889da85062f836d8db82f8d3a293c0c3a5"
   }
  }
 },
 "nbformat": 4,
 "nbformat_minor": 2
}
