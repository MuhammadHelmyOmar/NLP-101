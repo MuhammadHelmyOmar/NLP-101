{
  "cells": [
    {
      "cell_type": "code",
      "source": [
        "from google.colab import drive\n",
        "drive.mount('/content/drive')"
      ],
      "metadata": {
        "id": "fI0_g9zxFR_v",
        "colab": {
          "base_uri": "https://localhost:8080/"
        },
        "outputId": "e39fdbb4-e3f4-40af-83ab-c0713666cd2e"
      },
      "execution_count": null,
      "outputs": [
        {
          "output_type": "stream",
          "name": "stdout",
          "text": [
            "Drive already mounted at /content/drive; to attempt to forcibly remount, call drive.mount(\"/content/drive\", force_remount=True).\n"
          ]
        }
      ]
    },
    {
      "cell_type": "markdown",
      "source": [
        "# FastText"
      ],
      "metadata": {
        "id": "85Vd8wxysWiP"
      }
    },
    {
      "cell_type": "markdown",
      "source": [
        "- FastText is similar to Word2Vec with one differnce:\n",
        "    - Word2Vec is based on Words, whereas in fastText we train on n-gram characters\n",
        "    - Benefits:\n",
        "        - You are capturing fine level more granular info.\n",
        "        - OOV problem is tackld to a major extent\n",
        "        - Train custom Word Embeddings for your own domain\n",
        "    - It is a technique and a library"
      ],
      "metadata": {
        "id": "Y_eeQCU6sZ7o"
      }
    },
    {
      "cell_type": "code",
      "source": [
        "# !pip install fasttext # Note: fasttext may not be convenient with windows, this is why I used colab and google drive for this mini project."
      ],
      "metadata": {
        "colab": {
          "base_uri": "https://localhost:8080/"
        },
        "id": "P_n3t8aZqzRs",
        "outputId": "c7aeb8d8-cd51-4b2e-e297-a9e833e809c9"
      },
      "execution_count": null,
      "outputs": [
        {
          "output_type": "stream",
          "name": "stdout",
          "text": [
            "Collecting fasttext\n",
            "  Downloading fasttext-0.9.2.tar.gz (68 kB)\n",
            "\u001b[?25l     \u001b[90m━━━━━━━━━━━━━━━━━━━━━━━━━━━━━━━━━━━━━━━━\u001b[0m \u001b[32m0.0/68.8 kB\u001b[0m \u001b[31m?\u001b[0m eta \u001b[36m-:--:--\u001b[0m\r\u001b[2K     \u001b[91m━━━━━━━━━━━━━━━━━━━━━━━━━━━━━━━━━━━\u001b[0m\u001b[91m╸\u001b[0m\u001b[90m━━━━\u001b[0m \u001b[32m61.4/68.8 kB\u001b[0m \u001b[31m1.8 MB/s\u001b[0m eta \u001b[36m0:00:01\u001b[0m\r\u001b[2K     \u001b[90m━━━━━━━━━━━━━━━━━━━━━━━━━━━━━━━━━━━━━━━━\u001b[0m \u001b[32m68.8/68.8 kB\u001b[0m \u001b[31m1.5 MB/s\u001b[0m eta \u001b[36m0:00:00\u001b[0m\n",
            "\u001b[?25h  Preparing metadata (setup.py) ... \u001b[?25l\u001b[?25hdone\n",
            "Collecting pybind11>=2.2 (from fasttext)\n",
            "  Using cached pybind11-2.11.1-py3-none-any.whl (227 kB)\n",
            "Requirement already satisfied: setuptools>=0.7.0 in /usr/local/lib/python3.10/dist-packages (from fasttext) (67.7.2)\n",
            "Requirement already satisfied: numpy in /usr/local/lib/python3.10/dist-packages (from fasttext) (1.22.4)\n",
            "Building wheels for collected packages: fasttext\n",
            "  Building wheel for fasttext (setup.py) ... \u001b[?25l\u001b[?25hdone\n",
            "  Created wheel for fasttext: filename=fasttext-0.9.2-cp310-cp310-linux_x86_64.whl size=4199774 sha256=442293c63b7eaa7b56e85cd7e5b782d5b6afbaa4740937dee6e78bdfed32a723\n",
            "  Stored in directory: /root/.cache/pip/wheels/a5/13/75/f811c84a8ab36eedbaef977a6a58a98990e8e0f1967f98f394\n",
            "Successfully built fasttext\n",
            "Installing collected packages: pybind11, fasttext\n",
            "Successfully installed fasttext-0.9.2 pybind11-2.11.1\n"
          ]
        }
      ]
    },
    {
      "cell_type": "code",
      "source": [
        "import fasttext"
      ],
      "metadata": {
        "id": "OFhZ3GZuFLDa"
      },
      "execution_count": null,
      "outputs": []
    },
    {
      "cell_type": "markdown",
      "source": [
        "Fasttext is trained on [Wikipedia](https://www.wikipedia.org/) and [Common Crawl](https://commoncrawl.org/)."
      ],
      "metadata": {
        "id": "BPA_pJ3nAZnL"
      }
    },
    {
      "cell_type": "markdown",
      "source": [
        "### Pre-trained Models"
      ],
      "metadata": {
        "id": "ywCziia2shnl"
      }
    },
    {
      "cell_type": "markdown",
      "source": [
        "Here, I downloaded and used the Arabic model. You can use this link [fastText](https://fasttext.cc/docs/en/crawl-vectors.html) to download whatever model you want. Notice that the download may take time"
      ],
      "metadata": {
        "id": "0-GgZxfesi_0"
      }
    },
    {
      "cell_type": "code",
      "source": [
        "file = 'drive/MyDrive/Colab Notebooks/cc.ar.300.bin'\n",
        "model_ar = fasttext.load_model(file)"
      ],
      "metadata": {
        "colab": {
          "base_uri": "https://localhost:8080/"
        },
        "id": "zwZqrf2xBPXz",
        "outputId": "5e85311f-081c-44ae-b5f8-c5ef6fd89d4f"
      },
      "execution_count": null,
      "outputs": [
        {
          "output_type": "stream",
          "name": "stderr",
          "text": [
            "Warning : `load_model` does not return WordVectorModel or SupervisedModel any more, but a `FastText` object which is very similar.\n"
          ]
        }
      ]
    },
    {
      "cell_type": "code",
      "source": [
        "# Get similar words\n",
        "model_ar.get_nearest_neighbors('سعادة')\n",
        "model_ar.get_nearest_neighbors('أب')\n",
        "model_ar.get_nearest_neighbors('غريب')\n",
        "model_ar.get_nearest_neighbors('مرحبا')\n",
        "model_ar.get_nearest_neighbors('ملوخية', k=15)"
      ],
      "metadata": {
        "colab": {
          "base_uri": "https://localhost:8080/"
        },
        "id": "ABW3HFlfAvLR",
        "outputId": "ff0e25c6-d2d1-4c58-e192-9b3d5e7452b1"
      },
      "execution_count": null,
      "outputs": [
        {
          "output_type": "execute_result",
          "data": {
            "text/plain": [
              "[(0.7552084922790527, 'وملوخية'),\n",
              " (0.7125478982925415, 'ملوخيه'),\n",
              " (0.6418208479881287, 'الملوخية'),\n",
              " (0.6359454393386841, 'بالملوخية'),\n",
              " (0.6341190338134766, 'بامية'),\n",
              " (0.61391282081604, 'طعمية'),\n",
              " (0.6041226983070374, 'شاورمة'),\n",
              " (0.5958276391029358, 'كالملوخية'),\n",
              " (0.5935855507850647, 'للملوخية'),\n",
              " (0.586591362953186, 'والملوخية'),\n",
              " (0.5819165706634521, 'وكفتة'),\n",
              " (0.5795913338661194, 'كبدة'),\n",
              " (0.5737639665603638, 'وملوخيه'),\n",
              " (0.5696524381637573, 'فريكة'),\n",
              " (0.5644925832748413, 'تقلية')]"
            ]
          },
          "metadata": {},
          "execution_count": 5
        }
      ]
    },
    {
      "cell_type": "markdown",
      "source": [
        "We can see that we are not getting good results, we have the same word but concatenated with diacritics or prepositions (treated as one different word)."
      ],
      "metadata": {
        "id": "tPzvaFoCCTFL"
      }
    },
    {
      "cell_type": "code",
      "source": [
        "# Try OOV word\n",
        "model_ar.get_nearest_neighbors('يبسيبا')\n",
        "model_ar.get_word_vector('يبسيبا')"
      ],
      "metadata": {
        "colab": {
          "base_uri": "https://localhost:8080/"
        },
        "id": "UzrvP5HeH541",
        "outputId": "f87d3fbc-7d6b-48da-da4d-61764bbe3577"
      },
      "execution_count": null,
      "outputs": [
        {
          "output_type": "execute_result",
          "data": {
            "text/plain": [
              "array([-0.03157076,  0.00176952,  0.03622275,  0.11552928,  0.01040021,\n",
              "        0.0181135 ,  0.01454106,  0.00864211, -0.00445204, -0.06367079,\n",
              "       -0.00637065, -0.01882795,  0.03470982,  0.0564304 , -0.01019791,\n",
              "        0.04273491, -0.00170732,  0.02038336,  0.01482184,  0.03989518,\n",
              "        0.00127971, -0.00116394,  0.05088668, -0.00465753,  0.02167557,\n",
              "        0.01498103,  0.01558531,  0.03662361,  0.01400687, -0.01117589,\n",
              "       -0.02574238,  0.02709552, -0.03121319, -0.0038324 ,  0.02592092,\n",
              "       -0.01286258, -0.00313888, -0.01036882,  0.01045522, -0.03895738,\n",
              "        0.01449157,  0.00245762,  0.00567389, -0.0139898 ,  0.03512364,\n",
              "        0.00579257, -0.01669433, -0.01056536, -0.015738  , -0.00853304,\n",
              "        0.03449068,  0.00568154,  0.03193806,  0.01269338, -0.02150298,\n",
              "        0.0031054 , -0.01355327,  0.01010045, -0.01579143, -0.03674832,\n",
              "        0.07181165, -0.0569393 ,  0.03484503, -0.01657837,  0.00287214,\n",
              "       -0.02598459,  0.01959526, -0.00632874,  0.00638888,  0.03301058,\n",
              "       -0.02228032, -0.0267032 ,  0.02179012,  0.01412552,  0.05203868,\n",
              "        0.03020776,  0.00577676,  0.04687321,  0.01493371, -0.02099636,\n",
              "        0.01792519,  0.0202685 ,  0.01630612, -0.02508671,  0.02291871,\n",
              "       -0.02472822, -0.01114972,  0.00456708,  0.03179724,  0.01565881,\n",
              "        0.00650093,  0.02828084,  0.08023592, -0.02513157, -0.01930882,\n",
              "       -0.01356908,  0.00018839,  0.01330011,  0.03121636, -0.00490235,\n",
              "       -0.0257764 ,  0.00377482, -0.00434448,  0.01726321,  0.01859452,\n",
              "       -0.01986694,  0.06414041, -0.02014062,  0.03880378,  0.03087862,\n",
              "       -0.0070001 ,  0.00016201, -0.02076808,  0.01996074, -0.02324881,\n",
              "        0.00770252,  0.00330438, -0.01190908, -0.01665295, -0.03161407,\n",
              "       -0.04383225,  0.02005452,  0.01380801,  0.01225611,  0.02164403,\n",
              "        0.01996341, -0.03966245, -0.01593107,  0.01511558, -0.01194151,\n",
              "        0.01765248,  0.00827072,  0.01107891,  0.0479253 , -0.01755834,\n",
              "        0.02205287,  0.01621946,  0.00505495, -0.02602205,  0.01035409,\n",
              "        0.01204486, -0.03661926,  0.0015233 , -0.04164702,  0.02531436,\n",
              "       -0.00485484,  0.01872427, -0.03194813,  0.04175723, -0.0013493 ,\n",
              "        0.02297561, -0.03323831, -0.02397175,  0.0206448 ,  0.00085329,\n",
              "        0.03917138, -0.01218732,  0.01401057,  0.01686314,  0.00515219,\n",
              "        0.01183004, -0.02518915, -0.00762218,  0.02305504,  0.00039576,\n",
              "        0.00819845,  0.02912251,  0.00524072, -0.01202907, -0.0534152 ,\n",
              "        0.02590417,  0.01803584, -0.00104843,  0.04132067, -0.03559005,\n",
              "        0.03071529, -0.03428305, -0.02114595, -0.00626811,  0.04214734,\n",
              "       -0.01341424,  0.03426106,  0.04287587, -0.04493736, -0.0096951 ,\n",
              "       -0.0762042 , -0.00102419, -0.02946281, -0.02852061, -0.0306548 ,\n",
              "        0.01177859, -0.03712803, -0.04574431, -0.00218748, -0.02711024,\n",
              "        0.03191199,  0.00441391,  0.04685804, -0.02288246, -0.00720675,\n",
              "       -0.02959766, -0.02265224,  0.02901509,  0.01389173,  0.00849413,\n",
              "        0.03251558, -0.0402853 ,  0.00752754, -0.01169436,  0.02480506,\n",
              "        0.00654997, -0.02072916,  0.03749143,  0.00946432, -0.02875584,\n",
              "        0.0098393 ,  0.02962677, -0.01018997, -0.08604477,  0.02907529,\n",
              "        0.0114168 ,  0.03638021,  0.00883805,  0.07414971,  0.0086348 ,\n",
              "        0.01996232, -0.01946673,  0.00295524,  0.00166451, -0.02755449,\n",
              "       -0.00017993,  0.0429956 ,  0.00645289,  0.01959418, -0.02759494,\n",
              "       -0.01472877,  0.03861549, -0.00879251,  0.08930171,  0.00207306,\n",
              "       -0.00089146,  0.01805911,  0.04219937, -0.13162702, -0.01479805,\n",
              "        0.00331062,  0.02989281, -0.01261411, -0.00411718,  0.0082045 ,\n",
              "        0.03511174,  0.03812239, -0.04550977,  0.0154105 ,  0.02482206,\n",
              "        0.00129345, -0.03014766,  0.02100274,  0.02245712,  0.01079378,\n",
              "        0.0040496 , -0.0315423 , -0.0026324 , -0.0150214 , -0.04399374,\n",
              "       -0.01502299, -0.02704972, -0.02918092, -0.01112928,  0.01903684,\n",
              "       -0.03665174, -0.00513973, -0.03953474,  0.01286414, -0.00890167,\n",
              "       -0.07183824,  0.02119627,  0.03071807, -0.0312712 , -0.01506729,\n",
              "       -0.06395874, -0.00667892, -0.01714985,  0.08975738, -0.00148853,\n",
              "        0.03516277, -0.06678723,  0.00675501,  0.01968674, -0.00126159,\n",
              "       -0.01395272, -0.00082577, -0.01913585,  0.00994272, -0.02869382,\n",
              "       -0.00588214, -0.03542845, -0.00848206, -0.00792248,  0.02166608],\n",
              "      dtype=float32)"
            ]
          },
          "metadata": {},
          "execution_count": 6
        }
      ]
    },
    {
      "cell_type": "code",
      "source": [
        "model_ar.get_analogies('القاهرة',\"مصر\",\"قطر\")"
      ],
      "metadata": {
        "colab": {
          "base_uri": "https://localhost:8080/"
        },
        "id": "baOERdEcIq1e",
        "outputId": "c70087f9-c9b7-495f-a6f6-4a80f37729d3"
      },
      "execution_count": null,
      "outputs": [
        {
          "output_type": "execute_result",
          "data": {
            "text/plain": [
              "[(0.7463694214820862, 'الدوحة'),\n",
              " (0.5999259948730469, 'والدوحة'),\n",
              " (0.5717125535011292, 'بالدوحة'),\n",
              " (0.5323188304901123, 'بقطر'),\n",
              " (0.5272210836410522, 'الدوحه'),\n",
              " (0.5185776352882385, 'ظبي'),\n",
              " (0.5118902325630188, 'دبي'),\n",
              " (0.5099754929542542, 'الرياض'),\n",
              " (0.5035517811775208, 'القطرية'),\n",
              " (0.49976837635040283, 'وقطر')]"
            ]
          },
          "metadata": {},
          "execution_count": 7
        }
      ]
    },
    {
      "cell_type": "markdown",
      "source": [
        "Allah Akbar! it is getting the relation/analogy between these words right (country vs capital)."
      ],
      "metadata": {
        "id": "3I87Y_meJAwS"
      }
    },
    {
      "cell_type": "code",
      "source": [
        "# let's try more analogies\n",
        "model_ar.get_analogies(\"العقاد\",\"عباس\",\"نجيب\")\n",
        "# model_ar.get_analogies(\"قيادة\",\"سيارة\",\"قلم\")"
      ],
      "metadata": {
        "colab": {
          "base_uri": "https://localhost:8080/"
        },
        "id": "MaT5hrmFJbBG",
        "outputId": "5c48e94b-3869-4568-c06b-25785a737050"
      },
      "execution_count": null,
      "outputs": [
        {
          "output_type": "execute_result",
          "data": {
            "text/plain": [
              "[(0.5387612581253052, 'الريحانى'),\n",
              " (0.5120573043823242, 'لنجيب'),\n",
              " (0.5071048140525818, 'كنجيب'),\n",
              " (0.5003853440284729, 'ونجيب'),\n",
              " (0.4744862914085388, 'البهبيتي'),\n",
              " (0.47042524814605713, 'الريحاني'),\n",
              " (0.45407745242118835, 'أمهالي'),\n",
              " (0.4463801383972168, 'والعقاد'),\n",
              " (0.4434470534324646, 'المنفلوطي'),\n",
              " (0.43790125846862793, 'رمسيس')]"
            ]
          },
          "metadata": {},
          "execution_count": 8
        }
      ]
    },
    {
      "cell_type": "markdown",
      "source": [
        "Still not that good for other analogies."
      ],
      "metadata": {
        "id": "hXD7JgWILUeM"
      }
    },
    {
      "cell_type": "markdown",
      "source": [
        "Let's try the English model and observe the difference."
      ],
      "metadata": {
        "id": "_NvWGl7ULguf"
      }
    },
    {
      "cell_type": "code",
      "source": [
        "# We are going to load the English model instead\n",
        "file = 'drive/MyDrive/Colab Notebooks/cc.en.300.bin'\n",
        "model_ar = fasttext.load_model(file)"
      ],
      "metadata": {
        "id": "SmPpZtosC4-7",
        "colab": {
          "base_uri": "https://localhost:8080/"
        },
        "outputId": "ff95189e-682e-4dff-d1fb-3bd65406b533"
      },
      "execution_count": null,
      "outputs": [
        {
          "output_type": "stream",
          "name": "stderr",
          "text": [
            "Warning : `load_model` does not return WordVectorModel or SupervisedModel any more, but a `FastText` object which is very similar.\n"
          ]
        }
      ]
    },
    {
      "cell_type": "code",
      "source": [
        "# Get similar words\n",
        "# model_ar.get_nearest_neighbors('happiness') # Not that good results\n",
        "# model_ar.get_nearest_neighbors('Happiness') # Not that good results\n",
        "model_ar.get_nearest_neighbors('weird')\n",
        "# model_ar.get_nearest_neighbors('good')\n",
        "# model_ar.get_nearest_neighbors('Hello')\n",
        "# model_ar.get_nearest_neighbors('pasta', k=15)"
      ],
      "metadata": {
        "colab": {
          "base_uri": "https://localhost:8080/"
        },
        "outputId": "9e5a6b2a-0e33-4a27-bfa1-e4f6dea054bc",
        "id": "_Y4fEGiVuFdb"
      },
      "execution_count": null,
      "outputs": [
        {
          "output_type": "execute_result",
          "data": {
            "text/plain": [
              "[(0.8633170127868652, 'wierd'),\n",
              " (0.8509200811386108, 'strange'),\n",
              " (0.7719759941101074, 'odd'),\n",
              " (0.7698010802268982, 'freaky'),\n",
              " (0.758965015411377, 'bizarre'),\n",
              " (0.7379343509674072, 'bizzare'),\n",
              " (0.7372801899909973, 'weirdly'),\n",
              " (0.7175062298774719, 'werid'),\n",
              " (0.7075178027153015, 'super-weird'),\n",
              " (0.6973484754562378, 'whacky')]"
            ]
          },
          "metadata": {},
          "execution_count": 10
        }
      ]
    },
    {
      "cell_type": "code",
      "source": [
        "# Try OOV word\n",
        "model_ar.get_nearest_neighbors('fsdkdgdhfgh')"
      ],
      "metadata": {
        "colab": {
          "base_uri": "https://localhost:8080/"
        },
        "outputId": "7b51b3e8-8f18-4782-8193-666f416021e9",
        "id": "1KB61dT7uZoJ"
      },
      "execution_count": null,
      "outputs": [
        {
          "output_type": "execute_result",
          "data": {
            "text/plain": [
              "[(0.517150342464447,\n",
              "  'записиТелепрограммаVikerraadioOtseEsilehtJärelkuulamineSaatekavaPodcastidRaadioteaterRaadio'),\n",
              " (0.5132656693458557,\n",
              "  'QQJCgAEACwJAAAAEAASAAAIZwABEBhIsKBBAQAEGiSQUCEBARAdDgQwoKJCiBEJUqw44CJGhxstDsSYkSFHhx8RahQ5MWFEhQ0TjiQZk6NIhB8b2uzIMKfOnQBoxgzJ82NLokVlakQqUOJSoAsnQo1q0qZTg0MHBgQAIfkECQoABAAsCQAAABAAEgAACGkAARAYSJAggIMEBSAsSADAgIcCCQiYGHGgw4cDIk6kaBBjxoEbFXaEmDBkxYsVNwJQiPCgS4sHKbr0'),\n",
              " (0.5087414979934692,\n",
              "  'uudisedVälisuudisedMajandusArvamusTeadusKultuurMeelelahutusSportIlmrus.err.eenews.err.eeViipekeelsedETVAvalehtOtseJärelvaatamineSaatekavaSaatedRetseptidETV2OtseLastejaamAvalehtJärelvaatamineSaatekavaSaatedETV'),\n",
              " (0.5058760643005371,\n",
              "  'Inc.HelpAboutAppsDevelopersThemesJobsLegalTermsCopyrightPrivacyEnglishDeutschFrançaisItaliano日本語TürkçeEspañolPусскийPolskiPortuguês'),\n",
              " (0.503564715385437,\n",
              "  'записиТелепрограммаRaadioVikerraadioOtseJärelkuulamineSaatekavaPodcastidRaadioteaterRaadio'),\n",
              " (0.5006862878799438,\n",
              "  'Bags.sizingInchesEURUSAUK8.50354.528.6335.552.58.88365.539.0036.563.59.13376.549.3837.574.59.50387.559.62538.585.59.875398.5610.004096.510.125419.5710.2542107.510.3754310.5810.5043.5118.510.6254411.5910.87544.5121011.004512.510.511.125461311'),\n",
              " (0.4999796748161316,\n",
              "  'HughesToshibaTranstarTresemmeTridonicTrillionTTAPValorVarilightVAXVentryVentureVivancoVogelsVQWarmliteWhirlpoolWhite'),\n",
              " (0.49538466334342957,\n",
              "  'BELLCromptonCustomer-ServicesDaewooDelonghiDeltechDigihomeDimplexDreamlandDualitDuracellDysonEbacElgentoELPEmergency'),\n",
              " (0.49221986532211304,\n",
              "  'DEky4M0BSpUOTPnSpkuL5I0GTSnRI4jMepcaFAoxIoFnX5kmJQk1aYvr2odGBAAIfkECQoABAAsCQAAABAAEgAACGcAARAYSLCgQQEABBokkFAhAQEQHQ4EMKCiQogRCVKsOOAiRocbLQ7EmJEhR4cfEWoUOTFhRIUNE44kGZOjSIQfG9rsyDCnzp0AaMYMyfNjS6JFZWpEKlDiUqALJ0KNatKmU4NDBwYEACH5BAUKAAQALAkAAAAQABIAAAhpAAEQGEiQIICDBAUgLEgAwICHAgkImBhxoMOHAyJOpGgQY8aBGxV2hJgwZMWLFTcCUIjwoEuLBym69PgxJMuDNAUqVDkz50qZLi'),\n",
              " (0.49205097556114197,\n",
              "  'LanguageEnglishРусскийDeutschFrançaisItalianoEspañolNederlandsPortuguêsMagyarČeskyRomânăPolskiSlovenskýTürkçeภาษาไทยDanskGreece')]"
            ]
          },
          "metadata": {},
          "execution_count": 14
        }
      ]
    },
    {
      "cell_type": "code",
      "source": [
        "model_ar.get_analogies('Cairo',\"Egypt\",\"Morocco\")"
      ],
      "metadata": {
        "colab": {
          "base_uri": "https://localhost:8080/"
        },
        "outputId": "1f285dec-1e22-438f-cce6-cca37228e154",
        "id": "YXfZbs1Eunzy"
      },
      "execution_count": null,
      "outputs": [
        {
          "output_type": "execute_result",
          "data": {
            "text/plain": [
              "[(0.7650710940361023, 'Marrakech'),\n",
              " (0.7263819575309753, 'Marrakesh'),\n",
              " (0.7223237156867981, 'Rabat'),\n",
              " (0.6824334263801575, 'Tangiers'),\n",
              " (0.6818484663963318, 'Tangier'),\n",
              " (0.6810853481292725, 'Tetouan'),\n",
              " (0.6729218363761902, 'Casablanca'),\n",
              " (0.6622314453125, 'Tunis'),\n",
              " (0.650971531867981, 'Agadir'),\n",
              " (0.6481225490570068, 'Algiers')]"
            ]
          },
          "metadata": {},
          "execution_count": 17
        }
      ]
    },
    {
      "cell_type": "code",
      "source": [
        "model_ar.get_analogies('Messi',\"Barcelona\",\"Madrid\")"
      ],
      "metadata": {
        "colab": {
          "base_uri": "https://localhost:8080/"
        },
        "id": "5VpJkoF38-A7",
        "outputId": "df7072b4-265b-4b0f-8999-500482440be5"
      },
      "execution_count": null,
      "outputs": [
        {
          "output_type": "execute_result",
          "data": {
            "text/plain": [
              "[(0.7491305470466614, 'Ronaldo'),\n",
              " (0.6917808055877686, 'Neymar'),\n",
              " (0.6880272030830383, 'Benzema'),\n",
              " (0.6678367257118225, 'Higuain'),\n",
              " (0.6611027717590332, 'Iniesta'),\n",
              " (0.653216540813446, 'MESSI'),\n",
              " (0.6429048180580139, 'Tevez'),\n",
              " (0.6297525763511658, 'Ozil'),\n",
              " (0.6284681558609009, 'Falcao'),\n",
              " (0.6254146695137024, 'Coentrao')]"
            ]
          },
          "metadata": {},
          "execution_count": 18
        }
      ]
    },
    {
      "cell_type": "markdown",
      "source": [
        "Well... We are getting reasonable results for English."
      ],
      "metadata": {
        "id": "f9gqqrgv9LMN"
      }
    },
    {
      "cell_type": "markdown",
      "source": [
        "### Training our own model"
      ],
      "metadata": {
        "id": "nX9U9ZlAs5hw"
      }
    },
    {
      "cell_type": "markdown",
      "source": [
        "Let's use nafsy dataset to generate word embeddings for psychology domain."
      ],
      "metadata": {
        "id": "yZh3Nf3TSBc3"
      }
    },
    {
      "cell_type": "code",
      "source": [
        "import pandas as pd"
      ],
      "metadata": {
        "id": "w4f4DeBgSA5R"
      },
      "execution_count": null,
      "outputs": []
    },
    {
      "cell_type": "code",
      "source": [
        "df = pd.read_csv('drive/MyDrive/Colab Notebooks/nafsy.csv')\n",
        "df.head()"
      ],
      "metadata": {
        "id": "wr_TTSsuSdWI",
        "colab": {
          "base_uri": "https://localhost:8080/",
          "height": 206
        },
        "outputId": "7ae5b9bc-977b-4640-9e09-c77b3fd81690"
      },
      "execution_count": null,
      "outputs": [
        {
          "output_type": "execute_result",
          "data": {
            "text/plain": [
              "                                          title  \\\n",
              "0           نافذة جوهاري في العلاقات مع الآخرين   \n",
              "1                            اضطراب قلق الأمراض   \n",
              "2                        اضطراب الأعراض الجسمية   \n",
              "3                اضطراب ثنائي القطب لدى الأطفال   \n",
              "4  الذين يمشون خلال النوم لايشعرون بألم الحوادث   \n",
              "\n",
              "                                             content              writer  \\\n",
              "0  نافذة جوهاري هي نموذج اتصال ، يمكن استخدامها ل...  أ.سعد فليان المدعث   \n",
              "1  قلق الأمراض هو أحد الإضطرابات النفسية الشائعة....     Abdullah Subaie   \n",
              "2  هو أحد الاضطرابات العصابية التي تندرج تحت ما ي...     Abdullah Subaie   \n",
              "3  يمكن أن يحدث الاضطراب الوجداني ثنائي القطب لدى...   Tahani AL-Sharief   \n",
              "4  المشي أثناء النوم اضطراب شائع يصيب حوالي 4% من...             kholoud   \n",
              "\n",
              "                               date  \n",
              "0     الجمعة, مارس 25, 2016 - 23:46  \n",
              "1     السبت, فبراير 6, 2016 - 20:57  \n",
              "2  الأربعاء, فبراير 3, 2016 - 20:20  \n",
              "3    الخميس, يناير 21, 2016 - 13:38  \n",
              "4    الجمعة, ديسمبر 4, 2015 - 23:14  "
            ],
            "text/html": [
              "\n",
              "\n",
              "  <div id=\"df-b9e40ebb-c250-4d8d-b048-b2b3514cc6cd\">\n",
              "    <div class=\"colab-df-container\">\n",
              "      <div>\n",
              "<style scoped>\n",
              "    .dataframe tbody tr th:only-of-type {\n",
              "        vertical-align: middle;\n",
              "    }\n",
              "\n",
              "    .dataframe tbody tr th {\n",
              "        vertical-align: top;\n",
              "    }\n",
              "\n",
              "    .dataframe thead th {\n",
              "        text-align: right;\n",
              "    }\n",
              "</style>\n",
              "<table border=\"1\" class=\"dataframe\">\n",
              "  <thead>\n",
              "    <tr style=\"text-align: right;\">\n",
              "      <th></th>\n",
              "      <th>title</th>\n",
              "      <th>content</th>\n",
              "      <th>writer</th>\n",
              "      <th>date</th>\n",
              "    </tr>\n",
              "  </thead>\n",
              "  <tbody>\n",
              "    <tr>\n",
              "      <th>0</th>\n",
              "      <td>نافذة جوهاري في العلاقات مع الآخرين</td>\n",
              "      <td>نافذة جوهاري هي نموذج اتصال ، يمكن استخدامها ل...</td>\n",
              "      <td>أ.سعد فليان المدعث</td>\n",
              "      <td>الجمعة, مارس 25, 2016 - 23:46</td>\n",
              "    </tr>\n",
              "    <tr>\n",
              "      <th>1</th>\n",
              "      <td>اضطراب قلق الأمراض</td>\n",
              "      <td>قلق الأمراض هو أحد الإضطرابات النفسية الشائعة....</td>\n",
              "      <td>Abdullah Subaie</td>\n",
              "      <td>السبت, فبراير 6, 2016 - 20:57</td>\n",
              "    </tr>\n",
              "    <tr>\n",
              "      <th>2</th>\n",
              "      <td>اضطراب الأعراض الجسمية</td>\n",
              "      <td>هو أحد الاضطرابات العصابية التي تندرج تحت ما ي...</td>\n",
              "      <td>Abdullah Subaie</td>\n",
              "      <td>الأربعاء, فبراير 3, 2016 - 20:20</td>\n",
              "    </tr>\n",
              "    <tr>\n",
              "      <th>3</th>\n",
              "      <td>اضطراب ثنائي القطب لدى الأطفال</td>\n",
              "      <td>يمكن أن يحدث الاضطراب الوجداني ثنائي القطب لدى...</td>\n",
              "      <td>Tahani AL-Sharief</td>\n",
              "      <td>الخميس, يناير 21, 2016 - 13:38</td>\n",
              "    </tr>\n",
              "    <tr>\n",
              "      <th>4</th>\n",
              "      <td>الذين يمشون خلال النوم لايشعرون بألم الحوادث</td>\n",
              "      <td>المشي أثناء النوم اضطراب شائع يصيب حوالي 4% من...</td>\n",
              "      <td>kholoud</td>\n",
              "      <td>الجمعة, ديسمبر 4, 2015 - 23:14</td>\n",
              "    </tr>\n",
              "  </tbody>\n",
              "</table>\n",
              "</div>\n",
              "      <button class=\"colab-df-convert\" onclick=\"convertToInteractive('df-b9e40ebb-c250-4d8d-b048-b2b3514cc6cd')\"\n",
              "              title=\"Convert this dataframe to an interactive table.\"\n",
              "              style=\"display:none;\">\n",
              "\n",
              "  <svg xmlns=\"http://www.w3.org/2000/svg\" height=\"24px\"viewBox=\"0 0 24 24\"\n",
              "       width=\"24px\">\n",
              "    <path d=\"M0 0h24v24H0V0z\" fill=\"none\"/>\n",
              "    <path d=\"M18.56 5.44l.94 2.06.94-2.06 2.06-.94-2.06-.94-.94-2.06-.94 2.06-2.06.94zm-11 1L8.5 8.5l.94-2.06 2.06-.94-2.06-.94L8.5 2.5l-.94 2.06-2.06.94zm10 10l.94 2.06.94-2.06 2.06-.94-2.06-.94-.94-2.06-.94 2.06-2.06.94z\"/><path d=\"M17.41 7.96l-1.37-1.37c-.4-.4-.92-.59-1.43-.59-.52 0-1.04.2-1.43.59L10.3 9.45l-7.72 7.72c-.78.78-.78 2.05 0 2.83L4 21.41c.39.39.9.59 1.41.59.51 0 1.02-.2 1.41-.59l7.78-7.78 2.81-2.81c.8-.78.8-2.07 0-2.86zM5.41 20L4 18.59l7.72-7.72 1.47 1.35L5.41 20z\"/>\n",
              "  </svg>\n",
              "      </button>\n",
              "\n",
              "\n",
              "\n",
              "    <div id=\"df-e7d1f236-9ca1-47ba-b263-8fe78620f41d\">\n",
              "      <button class=\"colab-df-quickchart\" onclick=\"quickchart('df-e7d1f236-9ca1-47ba-b263-8fe78620f41d')\"\n",
              "              title=\"Suggest charts.\"\n",
              "              style=\"display:none;\">\n",
              "\n",
              "<svg xmlns=\"http://www.w3.org/2000/svg\" height=\"24px\"viewBox=\"0 0 24 24\"\n",
              "     width=\"24px\">\n",
              "    <g>\n",
              "        <path d=\"M19 3H5c-1.1 0-2 .9-2 2v14c0 1.1.9 2 2 2h14c1.1 0 2-.9 2-2V5c0-1.1-.9-2-2-2zM9 17H7v-7h2v7zm4 0h-2V7h2v10zm4 0h-2v-4h2v4z\"/>\n",
              "    </g>\n",
              "</svg>\n",
              "      </button>\n",
              "    </div>\n",
              "\n",
              "<style>\n",
              "  .colab-df-quickchart {\n",
              "    background-color: #E8F0FE;\n",
              "    border: none;\n",
              "    border-radius: 50%;\n",
              "    cursor: pointer;\n",
              "    display: none;\n",
              "    fill: #1967D2;\n",
              "    height: 32px;\n",
              "    padding: 0 0 0 0;\n",
              "    width: 32px;\n",
              "  }\n",
              "\n",
              "  .colab-df-quickchart:hover {\n",
              "    background-color: #E2EBFA;\n",
              "    box-shadow: 0px 1px 2px rgba(60, 64, 67, 0.3), 0px 1px 3px 1px rgba(60, 64, 67, 0.15);\n",
              "    fill: #174EA6;\n",
              "  }\n",
              "\n",
              "  [theme=dark] .colab-df-quickchart {\n",
              "    background-color: #3B4455;\n",
              "    fill: #D2E3FC;\n",
              "  }\n",
              "\n",
              "  [theme=dark] .colab-df-quickchart:hover {\n",
              "    background-color: #434B5C;\n",
              "    box-shadow: 0px 1px 3px 1px rgba(0, 0, 0, 0.15);\n",
              "    filter: drop-shadow(0px 1px 2px rgba(0, 0, 0, 0.3));\n",
              "    fill: #FFFFFF;\n",
              "  }\n",
              "</style>\n",
              "\n",
              "    <script>\n",
              "      async function quickchart(key) {\n",
              "        const containerElement = document.querySelector('#' + key);\n",
              "        const charts = await google.colab.kernel.invokeFunction(\n",
              "            'suggestCharts', [key], {});\n",
              "      }\n",
              "    </script>\n",
              "\n",
              "      <script>\n",
              "\n",
              "function displayQuickchartButton(domScope) {\n",
              "  let quickchartButtonEl =\n",
              "    domScope.querySelector('#df-e7d1f236-9ca1-47ba-b263-8fe78620f41d button.colab-df-quickchart');\n",
              "  quickchartButtonEl.style.display =\n",
              "    google.colab.kernel.accessAllowed ? 'block' : 'none';\n",
              "}\n",
              "\n",
              "        displayQuickchartButton(document);\n",
              "      </script>\n",
              "      <style>\n",
              "    .colab-df-container {\n",
              "      display:flex;\n",
              "      flex-wrap:wrap;\n",
              "      gap: 12px;\n",
              "    }\n",
              "\n",
              "    .colab-df-convert {\n",
              "      background-color: #E8F0FE;\n",
              "      border: none;\n",
              "      border-radius: 50%;\n",
              "      cursor: pointer;\n",
              "      display: none;\n",
              "      fill: #1967D2;\n",
              "      height: 32px;\n",
              "      padding: 0 0 0 0;\n",
              "      width: 32px;\n",
              "    }\n",
              "\n",
              "    .colab-df-convert:hover {\n",
              "      background-color: #E2EBFA;\n",
              "      box-shadow: 0px 1px 2px rgba(60, 64, 67, 0.3), 0px 1px 3px 1px rgba(60, 64, 67, 0.15);\n",
              "      fill: #174EA6;\n",
              "    }\n",
              "\n",
              "    [theme=dark] .colab-df-convert {\n",
              "      background-color: #3B4455;\n",
              "      fill: #D2E3FC;\n",
              "    }\n",
              "\n",
              "    [theme=dark] .colab-df-convert:hover {\n",
              "      background-color: #434B5C;\n",
              "      box-shadow: 0px 1px 3px 1px rgba(0, 0, 0, 0.15);\n",
              "      filter: drop-shadow(0px 1px 2px rgba(0, 0, 0, 0.3));\n",
              "      fill: #FFFFFF;\n",
              "    }\n",
              "  </style>\n",
              "\n",
              "      <script>\n",
              "        const buttonEl =\n",
              "          document.querySelector('#df-b9e40ebb-c250-4d8d-b048-b2b3514cc6cd button.colab-df-convert');\n",
              "        buttonEl.style.display =\n",
              "          google.colab.kernel.accessAllowed ? 'block' : 'none';\n",
              "\n",
              "        async function convertToInteractive(key) {\n",
              "          const element = document.querySelector('#df-b9e40ebb-c250-4d8d-b048-b2b3514cc6cd');\n",
              "          const dataTable =\n",
              "            await google.colab.kernel.invokeFunction('convertToInteractive',\n",
              "                                                     [key], {});\n",
              "          if (!dataTable) return;\n",
              "\n",
              "          const docLinkHtml = 'Like what you see? Visit the ' +\n",
              "            '<a target=\"_blank\" href=https://colab.research.google.com/notebooks/data_table.ipynb>data table notebook</a>'\n",
              "            + ' to learn more about interactive tables.';\n",
              "          element.innerHTML = '';\n",
              "          dataTable['output_type'] = 'display_data';\n",
              "          await google.colab.output.renderOutput(dataTable, element);\n",
              "          const docLink = document.createElement('div');\n",
              "          docLink.innerHTML = docLinkHtml;\n",
              "          element.appendChild(docLink);\n",
              "        }\n",
              "      </script>\n",
              "    </div>\n",
              "  </div>\n"
            ]
          },
          "metadata": {},
          "execution_count": 20
        }
      ]
    },
    {
      "cell_type": "code",
      "source": [
        "df.content"
      ],
      "metadata": {
        "colab": {
          "base_uri": "https://localhost:8080/"
        },
        "id": "o_o0YDCR9pww",
        "outputId": "01032121-9b19-4174-f97a-5bcc3fb931d8"
      },
      "execution_count": null,
      "outputs": [
        {
          "output_type": "execute_result",
          "data": {
            "text/plain": [
              "0      نافذة جوهاري هي نموذج اتصال ، يمكن استخدامها ل...\n",
              "1      قلق الأمراض هو أحد الإضطرابات النفسية الشائعة....\n",
              "2      هو أحد الاضطرابات العصابية التي تندرج تحت ما ي...\n",
              "3      يمكن أن يحدث الاضطراب الوجداني ثنائي القطب لدى...\n",
              "4      المشي أثناء النوم اضطراب شائع يصيب حوالي 4% من...\n",
              "                             ...                        \n",
              "659    يبدأ ضبط البول لدى الأطفال في عمر سنتان أو ثلا...\n",
              "660    Zyprexa /Olanzapine\\n.زيبركسا (أولانزابين)\\nال...\n",
              "661    يخطئ من يتصور أن للطلاق صورة واحدة هي التي تعا...\n",
              "662    العناد ظاهرة شائعة لدى الأطفال ، وهي تعبير عن ...\n",
              "663      الاكتئاب النفسي هو أحدُ أكثر الاضطرابات النف...\n",
              "Name: content, Length: 664, dtype: object"
            ]
          },
          "metadata": {},
          "execution_count": 21
        }
      ]
    },
    {
      "cell_type": "code",
      "source": [
        "df.content[0]"
      ],
      "metadata": {
        "colab": {
          "base_uri": "https://localhost:8080/",
          "height": 105
        },
        "id": "KTQ1vV_H_twx",
        "outputId": "a498e56a-e5de-4c00-ea8e-190109db462e"
      },
      "execution_count": null,
      "outputs": [
        {
          "output_type": "execute_result",
          "data": {
            "text/plain": [
              "'نافذة جوهاري هي نموذج اتصال ، يمكن استخدامها لتحسين التفاهم بين الأفراد داخل فريق أو مجموعة. و وضع هذا النظام (جوزيف لوفت) و(هاري) ، فكلمة \"جوهاري\" من (جوزيف لوفت) و(هاري) ، واليك شرح هذه النافذة:\\n\\n1.المنطقة العمياء أوالذات العمياء:\\nنحن قد نتحدث بطريقة معينة , أو بلهجة معينة , وعلي وجوهنا تعبير ما , نحن لا نري ذلك التعبير ، ولكن الناس يرونه ويدركونه ، وفي واقع الأمر أن سلوكنا يؤثر في كيف يرانا الناس ، وبالتالي يؤثر في كيفية تعاملهم معنا .\\nيعني ذلك أني أثناء حديثي مع الناس قد أرسل لهم رسائل غير لفظية , مثل حركات اليد والجلسة وتعابير الوجه ، وهذه الرسائل ستجعلهم يرونني بمنظار ما ، ويقدرون أمراً ما بخصوصي . وقد يخفى الأمر علي (لأنني لا أري ما أفعل).\\nباختصار هذه المنطقة العمياء , لا يمكن تجاهلها أو التقليل من أثرها عند تعاملنا مع الناس في الحياة وفي المنزل وبين الأصدقاء وعند التفاوض مع الآخرين للوصول إلي ما نريد.\\nهذه السلوكيات العمياء – أي غير المعروفة لنا في الوعي – هي سلوكيات منقولة ومنسوخة من أناس ما في حياتك الماضية لما كنت صغيراً .\\n( لقد نسختها بدون وعي لذلك قد لا تدركها عندما تكبر حتى يلفت انتباهك إليها).\\n\\n2. منطقة القناع أو الذات المخفية:\\nهي الأمور التي تدركها أنت عن نفسك ولكن لا يدركها أو يفطن إليها الآخرون , وهي داخل مجال رؤيتنا ونظرنا ولكننا نختار ألا نشارك الآخرين فيها .\\nوكرد فعل لبعض تجارب طفولتنا ، قد نكون تعلمنا أن نجمع مشاعرنا وأفكارنا وتخيلاتنا ، عندئذ فإن ذاتنا تلبس قناعاً ، أو أقنعة تضع واجهة , ولا يعرف الآخرون كيف تشعر .\\nإن خوفنا من الناس أو عدم معرفتنا بهم لقدر كافي يجعلنا نخاف أن نقول لهم رأينا فيهم أو في الحياة أو فيما يفعلون أو فيما يقولون .\\nوبالتأكيد هناك الكثير الذي نختار أن نحتفظ به لأنفسنا ، ولكن أحياناً المخاطرة والانفتاح وفتح الصدر والتعبير عن الذات هو أنفع وسيلة لكي نحل مشاكلنا مع الآخرين.\\n\\n3. منطقة المجهول أوالذات الخفية:\\nهي الأمور التي لا يعرفها أحد حتى أنت , فالكثير من دوافع أفعالنا ومشاعرنا و سلوكياتنا عميقة مجهولة لا يعرف أحد ولا نحن ما يحدث , وأحيانا نشعر أو نعلم بها مخفية في أحلامنا ، أو مخاوفنا العميقة .\\nهي الأفعال والمخاوف والدوافع والمشاعر تبقي مجهولة وغير واضحة حتى نسمح لها بالطفو علي السطح .\\nالتداخل مع الناس , دخول التجارب , تغير السكن العمل , السفر ... هذه أمور تظهر ما خفي لدينا من مواهب وطاقات .\\nوكذلك تحليل النفس ... وسؤالها : أنا لماذا كذا وكذا بالأمس ؟ سؤال النفس وتحليلها كل يوم قبل النوم ، هذه الأمور وغيرها تساعد علي معرفة دوافعنا الخفية.\\n\\n4. المنطقة المفتوحة أوالذات المنفتحة ( منطقة النشاط الحر):\\nوهي التصرفات والمشاعر والدوافع التي تدركها وترغب أن تشارك الآخرين.\\nأحيانا ما نكون صرحاء ومنفتحين ومشاركين , ويكون جلياً لي ولك ماذا نفعل وماذا نريد من بعضنا البعض .\\nوما هي مشاعري وما هي مشاعرك ؟\\nوما هي الدوافع ؟ عندئذ نقول أن ذاتنا المنفتحة واعية وراغبة في المشاركة .\\nهذه المنطقة في سلوكياتنا وإدراكنا تزداد بازدياد الثقة بيننا وبين الطرف الآخر في العلاقة , وعندما يكون هناك تبادلاً مفتوحاً للمشاعر والمعلومات بيني وبين المجموعة والزملاء والأصدقاء والزوجة أو الزوج تزداد حينئذ منطقة النشاط الحر .\\nعموما كلما صغرت مساحة الذات المنفتحة , دلت علي ضعف وسوء اتصالنا بالآخرين ، وكلما كبرت منطقة النشاط الحر , أو منطقة النفس الحرة الطليقة المنفتحة استطعنا أن نعمل سوياً مع الآخرين بسهولة ويسر , وتنساب الأفكار والمشاعر , وتتوحد الجهود ، ويجد كل طرف أن من السهل عليه أن يشارك .\\n\\nنافذة جوهاري طريقة حديثة للتعرف على الذات وأبعادها، أعدّها أو شرحها جوزيف لوفت Joseph Luft 1969K وأطلق عليها نافذة جوهاري (Johari Window)، وتضمنت هذه النافذة أربع نماذج خاصة للتعرف على النفس ، وهي /\\n1 ـ المنطقة الحرة (المفتوحة): تتضمن المنطقة الحرة Free Area كل شيء يعرفه الفرد عن نفسه وكذلك الآخرون، ومنها يعرفون سلوكه وإتجاهاته.  وتتضمن قيم الفرد ، مميزاته ، شخصيته ، إدراكه .\\n2 ـ المنطقة العمياء:\\nتتضمن المنطقة العمياء Blind Area مواقف الفرد تجاه الآخرين في الوقت الذي يكون الفرد لا يعرف عنها شيئا.  ومنها تفسيرات الآخرون لسلوكيات الأفراد ، أو صعوبة اتصالهم معهم بمسببات لايعرفها هو.\\n3 ـ المنطقة المخفية (القناع):\\nفي المنطقة المخفية Hidden Area يعرف الفرد عن نفسه أشياءا لا يشرك الآخرين في معرفتها لأسباب عديدة منها الآداب الاجتماعية والأخلاقية.\\n4 ـ المنطقة غير المعروفة (المجهولة):\\nتتضمن المنطقة غير المعروفة Unknown Area الأشياء التي لايعرفها الفرد عن نفسه، ولا الآخرون يعرفون ذلك ، وهي ماتفسّر سلوك بعض الأفراد سلوكا لايعرفون مسبباته.  هذه النافذة موجودة لدى جميع الأفراد ولكنها بدرجات متفاوتة.\\nهناك من يكون مفتوحا للآخرين ويشاطرهم مشاعرهم وتكون المنطقة الحرة لديهم واسعة، والمنطقة الثانية ضيقة ،والبعض الآخر تكون لديهم المنطقة الحرة ضيقة والمتحفظة واسعة عندها يخفون أشياء كثيرة عن أنفسهم ولا يظهرونها للآخرين.\\nكأول خطوة لي هنا، و استنادا على ماتمّ نشره في أول الموضوع عن نافذة جوهاري والتي تلخّص دواخلنا في 4 أجزاء أو مداخل لشخصية الفرد،\\nوالتي حدّثتنا عن النقطة المجهولة، أو لنسميها النقطة السوداء ، أو كما يطيب لي تسميتها \"مغناطيس العلاقات ـ الخفيّ\".\\n\\nشرح جوهاري النقطة المجهولة أو غير المعروفة بأنها الجزء المعتم من الذات الداخلية ، والذي ليس بمقدورنا معرفته، كما أنه ليس بإمكان الآخرين النظر إليه أو فهمه.\\n\\nلنأتي على رؤيتي الشخصية، والتي لا أعلم هل سبقني أحد بها أم لا، لكن مايعنيني بالضرورة هو قناعتي التامّة بما سأدرجه حول هذا الموضوع.\\nيقول جوهاري:\\nأنها نقطة لا نعرفها ولايعرفها الآخرون عنّا.\\nوأقول: أنها مغناطيس العلاقات ، بمعنى أنها الجزء الغير مكتمل من شخصياتنا والذي لا نعلمه أو ندركه ، ونحتاج إلى أفراد يكملونه كلعبة المكعبات الصغيرة.  هي ببساطة الأشياء التي نتمناها في أنفسنا وليس بمقدورنا إدراكها ، ويسعى عقلنا اللاوعي لاكتسابها أو لترميم الجزء الناقص بإيجاد العلاقات لتكتمل الذوات الداخلية.\\nلم يوجد تفسير منطقي عقلي للصداقة، ولا للحب ، ولاحتى للإنجذاب.  قد نقول أن ماجذبني إلى فلان أو أحببت فلانا لهذا السبب ، استنادا على جاذبية النقطة المجهولة نستطيع أن نعدّ هذا السبب.  أنه ليس السبب الحقيقي، وقد يكون، لكن الجزء المعتم عمل كالمغناطيس وجذب كل ماينقصنا على هيئة أصدقاء وأحبة تَكمل بهم حياتنا وقبل ذلك ذواتنا التي لم نعرفها.\\n\\nالمعروف أو لنقل المنطقي أن أرواحنا أو ذواتنا الداخلية شكلها أو هيئتها كالبناء ، وحتى نكون أكثر دقّة لنقل أنها كلعبة المكعبات الصغيرة والتي يلزم أن نضع كل جزء في مكانه الصحيح، وألا يأتي جزء مكان آخر ، أو يوضع في مكان لا يناسبه حتى لا يختل البناء أو يظهر بصورة بشعة ،\\nلهذا خبراتنا تضاف تلقائيا وبدون شعور منّا حتى تكمل بنيتنا الداخلية والتي قلت أنها تعمل كما المكعبات ، كل شيء حسب مكانه الصحيح والمناسب.\\nهذا إن كان الحديث عام عن الخبرات والنقطة العمياء أو النقطة المفتوحة ، أو حتى القناع.  لكن في نظام العلاقات ، ولأن الإنسان جبل على نقص ، لم يستطع أن يكمل بنيته الداخلية في منطقته المجهولة لأنه لم يستطع تحديد الاحتياج ،فعملت تلك المنطقة كالمغناطيس ، وجذبت ما أمكنها اجتذابه من أصدقاء وأحبة ، بعيدا عمّن تربطنا بهم علاقتي الدم والمصاهرة.  وذلك مايفسّر انجذابنا لبعض من تربطنا بهم هاتان العلاقتان ونستطيع تسمية الرابط التوافق أو الامتزاج أو حتى الانجذاب.  بإمكاننا اعتبار كل علاقة في حياتنا \"شرخ داخلي أريد به ترميم \" ، وقد نقول جميع العلاقات بلا استثناء هي شروخنا الداخلية التي لم نتمكن من معرفتها ،أو صعُب علينا الوصول إلى ماهيتها ، وقد نكون علمناها لكن جُذبنا إلى آخرين بدون شعور منّا\\n\\nنافذة جو هاري الشخصية:\\nسميت بهذا الإسم من دمج أسمي الشخصين الذان اخترعاها وهما جوزيف لوفت وهاري إنقهام.  ويعتبر هذا النموذج واحدا من أهم النماذج التي تختص وتصف عمليات التفاعل الإنساني.  وقد تم أخذ المسمى لإن شكل النموذج يشبه شكل النافذة ومكونة من أربع مربعات كما بالشكل الموضح أدناه.  ويقسم جو وهاري الوعي الشخصي إلى أربعة أنواع مختلفة، ممثلة بالمربعات الأربعة التي تشكل النافذة.\\n\\n1- الميدان العام Open Arena\\n2- النقطة العمياء Blind Spot\\n3- الأسرار Hidden Area\\n4- المنطقة المجهولة Unknown Area\\n\\nوفي هذا النموذج، كل شخص منا تمثله نافذة خاصة به.\\n\\nوسأشرح كل واحدة منها وكيفية الاستفادة من هذا النموذج لكي تساعد في زيادة الوعي الشخصي وعملية التفاعل مع الآخرين.\\n\\nالقسم الأول: الميدان العام\\nويمثل هذا الجزء الأمور التي أعرفها عن نفسي وكذلك يعرفها الناس عني، ومثال ذلك، اسمي، هواياتي الخ... ويمكن أن يتضح من تفاعلي مع الآخرين أيضا أمور أخرى مثل الأمور التي أحب أو أكره وكلما تفاعلت مع الآخرين أخذوا يعرفون عني أمورا أنا أعرفها عن نفسي كعاداتي وأسلوبي الظاهر. وكلما زاد التفاعل مع الاخرين كلما زادت مساحة الميدان العام إما نزولا أو إلى اليمين مما يجعل الكثير من المعلومات تكون في الميدان العام.\\nالقسم الثاني: النقطة العمياء\\nوهذا المربع يمثل الأمور التي يراها الآخرون في شخصيتي وسلوكي ولكن ليس لدي وعي بها.  ومثال ذلك، لنفرض أنه لدي عادة عدم المحافظة على الاتصال بالعين أثناء الحديث مع الآخرين، وأن العديد من معارفي يعلمون هذا الأمر عني وأنا غير منتبه لهذه العادة. وربما يتجنب الكثير منهم إخباري بالأمر إما لشعورهم بالإحراج من ذلك أو خوفا من إحراجي فتكون هذه العادة مجهولة بالنسبة لي. وقيسوا على هذا المثال أي أمر موجود في الشخص كثير من الناس يعلمون فيك هذا الأمر ولكنك لاتعلم ذلك عن نفسك.\\nولكي يكون الاتصال الإنساني في ذروة الفعالية يجب استخدام أسلوب التغذية الراجعة ونقصد بذلك أنك تساعد الشخص على اكتشاف نقاط الظعف لديه وبذلك ننقل المعلومات من هذه المنطقة إلى الميدان العام.\\nويجب الانتباه الى استخدام التغذية الراجعة بطريقة فعالة وإلا سيعتبرها المتلقي على أنها انتقاد وفي هذه الحالة تتدهور العلاقة الانسانية وتتحول إلى دفاعية أو هجومية، بمعنى أن رد الشخص قد يكون شيئا مثل \" لا لا لا هذا الأمر غير صحيح\" وهذه هي الدفاعية\\nأما الهجومية وتكون مثلا\" ومنهو أنت علشان تنتقدني، أصلا انت منت كفو\"\\n\\nالقسم الثالث: منطقة الأسرار\\nوهذا المربع يتمثل في الأمور التي أحتفظ بها لنفسي ولايعرفها الآخرون عني.\\nويمكن من خلال مايعرف بأسلوب كشف الذات وهي العملية التي تسمح من خلالها للشخص الآخر بالتعرف على الأمرين الوحيدين الذان لايمكنه أن يتعرف عليهما وهما \" كيف أشعر وكيف أفكر\" بموضوع معين.\\nبمختصر الحديث عملية كشف الذات هي العملية التي تشارك بها مشاعرك وأفكارك مع الشخص الآخر ويجب أن تكون عملية إفصاح بمعنى أنك أنت الذي تفصح عن أسرارك للشخص الآخر وليس أن يكتشفها هو عنك. وتهدف هذه العملية إلى كسب ثقة الطرف الآخر وأن يكشف هو أيضا عن ذاته لنقل المعلومات من هذه المنطقة وتصبح في الميدان العام.\\nطبعا تعتبر هذه العملية أي عملية كشف الذات عملية تنطوي عليها خطورة كبيرة حيث أن المعلومات التي افصحت عنها قد تستخدم ضدك لذلك يجب أن تكون حذرا في مشاركتها ويجب أن يكون المعيار هو الزمن وعامل الثقة قبل أن تغوص بعمق في سرد أسرارك وإلا كان الندم نصيبك.\\n\\nالقسم الرابع: المنطقة المجهولة\\nويمثل هذا المربع الأمور التي لاأعلمها عن نفسي وحتى الآخرون لايعلمون بوجودها وهي المنطقة الخفية الموجودة في أي شخص كان. ومثال ذلك المواقف التي تظهر فيها قدرات وأساليب وسلوكيات لم يكن الشخص يظن أنها موجودة في شخصيته وحتى الآخرون لم يظنوا أنها موجوده فيه ، والأشخاص الذين يتمكنون من التعرف على هذه المنطقة المجهولة عن أنفسهم عادة يكونون هم الأشخاص الذين يتفاعلون مع الآخرين في المربعات الثلاثة آنفة الذكر .\\n                                                                                                                          '"
            ],
            "application/vnd.google.colaboratory.intrinsic+json": {
              "type": "string"
            }
          },
          "metadata": {},
          "execution_count": 22
        }
      ]
    },
    {
      "cell_type": "markdown",
      "source": [
        "Seems like data needs to be cleaned..."
      ],
      "metadata": {
        "id": "1Ys5207y-BjI"
      }
    },
    {
      "cell_type": "code",
      "source": [
        "[1,3,4]"
      ],
      "metadata": {
        "id": "aNLEGzjfFmkj",
        "colab": {
          "base_uri": "https://localhost:8080/",
          "height": 175
        },
        "outputId": "61990a79-1665-4044-848d-2e836eba8a5c"
      },
      "execution_count": null,
      "outputs": [
        {
          "output_type": "error",
          "ename": "TypeError",
          "evalue": "ignored",
          "traceback": [
            "\u001b[0;31m---------------------------------------------------------------------------\u001b[0m",
            "\u001b[0;31mTypeError\u001b[0m                                 Traceback (most recent call last)",
            "\u001b[0;32m<ipython-input-2-f119cc8ca308>\u001b[0m in \u001b[0;36m<cell line: 1>\u001b[0;34m()\u001b[0m\n\u001b[0;32m----> 1\u001b[0;31m \u001b[0;34m[\u001b[0m\u001b[0;36m1\u001b[0m\u001b[0;34m,\u001b[0m\u001b[0;36m3\u001b[0m\u001b[0;34m,\u001b[0m\u001b[0;36m4\u001b[0m\u001b[0;34m]\u001b[0m \u001b[0;34m*\u001b[0m \u001b[0;34m[\u001b[0m\u001b[0;34m-\u001b[0m\u001b[0;36m1\u001b[0m\u001b[0;34m]\u001b[0m\u001b[0;34m\u001b[0m\u001b[0;34m\u001b[0m\u001b[0m\n\u001b[0m",
            "\u001b[0;31mTypeError\u001b[0m: can't multiply sequence by non-int of type 'list'"
          ]
        }
      ]
    },
    {
      "cell_type": "markdown",
      "source": [
        "Special Thanks to: [Codebasics](https://www.youtube.com/watch?v=Br-Ozg9D4mc&list=PLeo1K3hjS3uuvuAXhYjV2lMEShq2UYSwX&index=24)"
      ],
      "metadata": {
        "id": "d0qId7rZ_TYs"
      }
    },
    {
      "cell_type": "code",
      "source": [
        "text = 'Juventus team will win the league. Ozo will score in the final, in addtion, Helmy will raise the cup.'"
      ],
      "metadata": {
        "id": "HzuOQbEIblur"
      },
      "execution_count": null,
      "outputs": []
    },
    {
      "cell_type": "code",
      "source": [
        "clean_text = text.replace(',','').replace('.','')\n",
        "clean_text"
      ],
      "metadata": {
        "colab": {
          "base_uri": "https://localhost:8080/",
          "height": 35
        },
        "id": "3Tt38JefeubC",
        "outputId": "fcaed232-d34b-4cb2-dada-d93f9e05d0f4"
      },
      "execution_count": null,
      "outputs": [
        {
          "output_type": "execute_result",
          "data": {
            "text/plain": [
              "'Juventus team will win the league Ozo will score in the final in addtion Helmy will raise the cup'"
            ],
            "application/vnd.google.colaboratory.intrinsic+json": {
              "type": "string"
            }
          },
          "metadata": {},
          "execution_count": 6
        }
      ]
    },
    {
      "cell_type": "code",
      "source": [
        "tokenized_text = clean_text.split()\n",
        "tokenized_text"
      ],
      "metadata": {
        "colab": {
          "base_uri": "https://localhost:8080/"
        },
        "id": "08ylSroab2Sj",
        "outputId": "f1b65a25-4df2-4044-bdfc-ffc1fde14688"
      },
      "execution_count": null,
      "outputs": [
        {
          "output_type": "execute_result",
          "data": {
            "text/plain": [
              "['Juventus',\n",
              " 'team',\n",
              " 'will',\n",
              " 'win',\n",
              " 'the',\n",
              " 'league',\n",
              " 'Ozo',\n",
              " 'will',\n",
              " 'score',\n",
              " 'in',\n",
              " 'the',\n",
              " 'final',\n",
              " 'in',\n",
              " 'addtion',\n",
              " 'Helmy',\n",
              " 'will',\n",
              " 'raise',\n",
              " 'the',\n",
              " 'cup']"
            ]
          },
          "metadata": {},
          "execution_count": 7
        }
      ]
    },
    {
      "cell_type": "code",
      "source": [
        "sent_tok = text.split('.')\n",
        "sent_tok"
      ],
      "metadata": {
        "colab": {
          "base_uri": "https://localhost:8080/"
        },
        "id": "rSqunEQDcKLa",
        "outputId": "cd07e73a-4059-45b0-dfa1-1ff58fdb7d75"
      },
      "execution_count": null,
      "outputs": [
        {
          "output_type": "execute_result",
          "data": {
            "text/plain": [
              "['Juventus team will win the league',\n",
              " ' Ozo will score in the final, in addtion, Helmy will raise the cup',\n",
              " '']"
            ]
          },
          "metadata": {},
          "execution_count": 4
        }
      ]
    },
    {
      "cell_type": "code",
      "source": [
        "from collections import defaultdict\n",
        "\n",
        "freq = defaultdict(int)\n",
        "for w in tokenized_text:\n",
        "  freq[w]+=1\n",
        "\n",
        "freq"
      ],
      "metadata": {
        "colab": {
          "base_uri": "https://localhost:8080/"
        },
        "id": "AQVNyci_cXe_",
        "outputId": "f2bfa615-ef3b-4274-ad54-3322f4a0ac6e"
      },
      "execution_count": null,
      "outputs": [
        {
          "output_type": "execute_result",
          "data": {
            "text/plain": [
              "defaultdict(int,\n",
              "            {'Juventus': 1,\n",
              "             'team': 1,\n",
              "             'will': 3,\n",
              "             'win': 1,\n",
              "             'the': 3,\n",
              "             'league': 1,\n",
              "             'Ozo': 1,\n",
              "             'score': 1,\n",
              "             'in': 2,\n",
              "             'final': 1,\n",
              "             'addtion': 1,\n",
              "             'Helmy': 1,\n",
              "             'raise': 1,\n",
              "             'cup': 1})"
            ]
          },
          "metadata": {},
          "execution_count": 8
        }
      ]
    }
  ],
  "metadata": {
    "colab": {
      "provenance": []
    },
    "kernelspec": {
      "display_name": "Python 3",
      "name": "python3"
    },
    "language_info": {
      "name": "python"
    }
  },
  "nbformat": 4,
  "nbformat_minor": 0
}